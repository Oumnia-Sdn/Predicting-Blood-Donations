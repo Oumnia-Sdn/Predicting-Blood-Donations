{
 "cells": [
  {
   "cell_type": "markdown",
   "id": "b39d07db",
   "metadata": {},
   "source": [
    "# Inspecting transfusion.data file\n",
    "\n",
    "Blood transfusion saves lives - from replacing lost blood during major surgery or a serious injury to treating various illnesses and blood disorders. Ensuring that there's enough blood in supply whenever needed is a serious challenge for the health professionals. According to WebMD, \"about 5 million Americans need a blood transfusion every year\".\n",
    "\n",
    "Our dataset is from a mobile blood donation vehicle in Taiwan. The Blood Transfusion Service Center drives to different universities and collects blood as part of a blood drive. We want to predict whether or not a donor will give blood the next time the vehicle comes to campus.\n",
    "\n",
    "The data is stored in data/transfusion.data and it is structured according to RFMTC marketing model (a variation of RFM). First, let's inspect the data."
   ]
  },
  {
   "cell_type": "code",
   "execution_count": 1,
   "id": "d96d8ef8",
   "metadata": {
    "scrolled": true
   },
   "outputs": [
    {
     "name": "stdout",
     "output_type": "stream",
     "text": [
      "Recency (months),Frequency (times),Monetary (c.c. blood),Time (months),\"whether he/she donated blood in March 2007\"\r",
      "\r\n",
      "2 ,50,12500,98 ,1\r",
      "\r\n",
      "0 ,13,3250,28 ,1\r",
      "\r\n",
      "1 ,16,4000,35 ,1\r",
      "\r\n",
      "2 ,20,5000,45 ,1\r",
      "\r\n"
     ]
    }
   ],
   "source": [
    "!head -n5 ../Predicting-Blood-Donations/data/transfusion.data"
   ]
  },
  {
   "cell_type": "markdown",
   "id": "77406577",
   "metadata": {},
   "source": [
    "# Setting the environment"
   ]
  },
  {
   "cell_type": "code",
   "execution_count": 2,
   "id": "eb858630",
   "metadata": {},
   "outputs": [],
   "source": [
    "import pandas as pd\n",
    "import numpy as np\n",
    "''' Data visualisation'''\n",
    "import matplotlib.pyplot as plt\n",
    "import seaborn as sns\n",
    "import warnings\n",
    "''' Scikit-Learn'''\n",
    "from sklearn.model_selection import train_test_split\n",
    "from sklearn.preprocessing import StandardScaler, RobustScaler\n",
    "from sklearn.preprocessing import OneHotEncoder\n",
    "from sklearn.model_selection import cross_validate\n",
    "from sklearn.model_selection import GridSearchCV\n",
    "from sklearn.model_selection import RandomizedSearchCV\n",
    "from sklearn import set_config\n",
    "\n",
    "set_config(display='diagram')\n",
    "from sklearn.compose import ColumnTransformer\n",
    "from sklearn.compose import make_column_selector\n",
    "from sklearn.metrics import confusion_matrix\n",
    "''' Imbalanced Classes'''\n",
    "import imblearn\n",
    "from imblearn.over_sampling import SMOTE\n",
    "from imblearn.under_sampling import RandomUnderSampler\n",
    "from imblearn.pipeline import Pipeline"
   ]
  },
  {
   "cell_type": "markdown",
   "id": "e62d43e8",
   "metadata": {},
   "source": [
    "# loading the data "
   ]
  },
  {
   "cell_type": "code",
   "execution_count": 3,
   "id": "e204c658",
   "metadata": {
    "scrolled": true
   },
   "outputs": [
    {
     "data": {
      "text/html": [
       "<div>\n",
       "<style scoped>\n",
       "    .dataframe tbody tr th:only-of-type {\n",
       "        vertical-align: middle;\n",
       "    }\n",
       "\n",
       "    .dataframe tbody tr th {\n",
       "        vertical-align: top;\n",
       "    }\n",
       "\n",
       "    .dataframe thead th {\n",
       "        text-align: right;\n",
       "    }\n",
       "</style>\n",
       "<table border=\"1\" class=\"dataframe\">\n",
       "  <thead>\n",
       "    <tr style=\"text-align: right;\">\n",
       "      <th></th>\n",
       "      <th>Recency (months)</th>\n",
       "      <th>Frequency (times)</th>\n",
       "      <th>Monetary (c.c. blood)</th>\n",
       "      <th>Time (months)</th>\n",
       "      <th>whether he/she donated blood in March 2007</th>\n",
       "    </tr>\n",
       "  </thead>\n",
       "  <tbody>\n",
       "    <tr>\n",
       "      <th>0</th>\n",
       "      <td>2</td>\n",
       "      <td>50</td>\n",
       "      <td>12500</td>\n",
       "      <td>98</td>\n",
       "      <td>1</td>\n",
       "    </tr>\n",
       "    <tr>\n",
       "      <th>1</th>\n",
       "      <td>0</td>\n",
       "      <td>13</td>\n",
       "      <td>3250</td>\n",
       "      <td>28</td>\n",
       "      <td>1</td>\n",
       "    </tr>\n",
       "    <tr>\n",
       "      <th>2</th>\n",
       "      <td>1</td>\n",
       "      <td>16</td>\n",
       "      <td>4000</td>\n",
       "      <td>35</td>\n",
       "      <td>1</td>\n",
       "    </tr>\n",
       "    <tr>\n",
       "      <th>3</th>\n",
       "      <td>2</td>\n",
       "      <td>20</td>\n",
       "      <td>5000</td>\n",
       "      <td>45</td>\n",
       "      <td>1</td>\n",
       "    </tr>\n",
       "    <tr>\n",
       "      <th>4</th>\n",
       "      <td>1</td>\n",
       "      <td>24</td>\n",
       "      <td>6000</td>\n",
       "      <td>77</td>\n",
       "      <td>0</td>\n",
       "    </tr>\n",
       "  </tbody>\n",
       "</table>\n",
       "</div>"
      ],
      "text/plain": [
       "   Recency (months)  Frequency (times)  Monetary (c.c. blood)  Time (months)  \\\n",
       "0                 2                 50                  12500             98   \n",
       "1                 0                 13                   3250             28   \n",
       "2                 1                 16                   4000             35   \n",
       "3                 2                 20                   5000             45   \n",
       "4                 1                 24                   6000             77   \n",
       "\n",
       "   whether he/she donated blood in March 2007  \n",
       "0                                           1  \n",
       "1                                           1  \n",
       "2                                           1  \n",
       "3                                           1  \n",
       "4                                           0  "
      ]
     },
     "execution_count": 3,
     "metadata": {},
     "output_type": "execute_result"
    }
   ],
   "source": [
    "# we load the data into memory\n",
    "transfusion = pd.read_csv(\"../Predicting-Blood-Donations/data/transfusion.data\")\n",
    "transfusion.head()"
   ]
  },
  {
   "cell_type": "markdown",
   "id": "6cb1b6d7",
   "metadata": {},
   "source": [
    "# Inspecting the data "
   ]
  },
  {
   "cell_type": "markdown",
   "id": "69eafbcf",
   "metadata": {},
   "source": [
    "It looks like our dataset uses RFM model. RFM stands for Recency, Frequency and Monetary Value and it is commonly used in marketing for identifying your best customers. In our case, our customers are blood donors.\n",
    "\n",
    "RFMTC is a variation of the RFM model. Below is a description of what each column means in our dataset:\n",
    "\n",
    "- R (Recency - months since the last donation)\n",
    "- F (Frequency - total number of donation)\n",
    "- M (Monetary - total blood donated in c.c.)\n",
    "- T (Time - months since the first donation)\n",
    "- a binary variable representing whether he/she donated blood in March 2007 (1 stands for donating blood; 0 stands for not donating blood)"
   ]
  },
  {
   "cell_type": "code",
   "execution_count": 4,
   "id": "c90f8929",
   "metadata": {
    "scrolled": false
   },
   "outputs": [
    {
     "name": "stdout",
     "output_type": "stream",
     "text": [
      "<class 'pandas.core.frame.DataFrame'>\n",
      "RangeIndex: 748 entries, 0 to 747\n",
      "Data columns (total 5 columns):\n",
      " #   Column                                      Non-Null Count  Dtype\n",
      "---  ------                                      --------------  -----\n",
      " 0   Recency (months)                            748 non-null    int64\n",
      " 1   Frequency (times)                           748 non-null    int64\n",
      " 2   Monetary (c.c. blood)                       748 non-null    int64\n",
      " 3   Time (months)                               748 non-null    int64\n",
      " 4   whether he/she donated blood in March 2007  748 non-null    int64\n",
      "dtypes: int64(5)\n",
      "memory usage: 29.3 KB\n"
     ]
    }
   ],
   "source": [
    "transfusion.info()"
   ]
  },
  {
   "cell_type": "markdown",
   "id": "74369057",
   "metadata": {},
   "source": [
    "All of our variables are numeric with no missing values."
   ]
  },
  {
   "cell_type": "markdown",
   "id": "c9b56d8f",
   "metadata": {},
   "source": [
    "# Target  column and its incidence "
   ]
  },
  {
   "cell_type": "code",
   "execution_count": 5,
   "id": "4b15a67c",
   "metadata": {
    "scrolled": true
   },
   "outputs": [
    {
     "data": {
      "text/plain": [
       "Index(['Recency (months)', 'Frequency (times)', 'Monetary (c.c. blood)',\n",
       "       'Time (months)', 'whether he/she donated blood in March 2007'],\n",
       "      dtype='object')"
      ]
     },
     "execution_count": 5,
     "metadata": {},
     "output_type": "execute_result"
    }
   ],
   "source": [
    "transfusion.columns "
   ]
  },
  {
   "cell_type": "markdown",
   "id": "e0d5c0bd",
   "metadata": {},
   "source": [
    "We see that our target column is not standardly named. let's rename it as *'target'* so that it is convenient to work with, especially for TPOT kind of Algorithms. "
   ]
  },
  {
   "cell_type": "code",
   "execution_count": 6,
   "id": "54b74d26",
   "metadata": {
    "scrolled": true
   },
   "outputs": [
    {
     "data": {
      "text/html": [
       "<div>\n",
       "<style scoped>\n",
       "    .dataframe tbody tr th:only-of-type {\n",
       "        vertical-align: middle;\n",
       "    }\n",
       "\n",
       "    .dataframe tbody tr th {\n",
       "        vertical-align: top;\n",
       "    }\n",
       "\n",
       "    .dataframe thead th {\n",
       "        text-align: right;\n",
       "    }\n",
       "</style>\n",
       "<table border=\"1\" class=\"dataframe\">\n",
       "  <thead>\n",
       "    <tr style=\"text-align: right;\">\n",
       "      <th></th>\n",
       "      <th>Recency (months)</th>\n",
       "      <th>Frequency (times)</th>\n",
       "      <th>Monetary (c.c. blood)</th>\n",
       "      <th>Time (months)</th>\n",
       "      <th>target</th>\n",
       "    </tr>\n",
       "  </thead>\n",
       "  <tbody>\n",
       "    <tr>\n",
       "      <th>0</th>\n",
       "      <td>2</td>\n",
       "      <td>50</td>\n",
       "      <td>12500</td>\n",
       "      <td>98</td>\n",
       "      <td>1</td>\n",
       "    </tr>\n",
       "    <tr>\n",
       "      <th>1</th>\n",
       "      <td>0</td>\n",
       "      <td>13</td>\n",
       "      <td>3250</td>\n",
       "      <td>28</td>\n",
       "      <td>1</td>\n",
       "    </tr>\n",
       "    <tr>\n",
       "      <th>2</th>\n",
       "      <td>1</td>\n",
       "      <td>16</td>\n",
       "      <td>4000</td>\n",
       "      <td>35</td>\n",
       "      <td>1</td>\n",
       "    </tr>\n",
       "    <tr>\n",
       "      <th>3</th>\n",
       "      <td>2</td>\n",
       "      <td>20</td>\n",
       "      <td>5000</td>\n",
       "      <td>45</td>\n",
       "      <td>1</td>\n",
       "    </tr>\n",
       "    <tr>\n",
       "      <th>4</th>\n",
       "      <td>1</td>\n",
       "      <td>24</td>\n",
       "      <td>6000</td>\n",
       "      <td>77</td>\n",
       "      <td>0</td>\n",
       "    </tr>\n",
       "  </tbody>\n",
       "</table>\n",
       "</div>"
      ],
      "text/plain": [
       "   Recency (months)  Frequency (times)  Monetary (c.c. blood)  Time (months)  \\\n",
       "0                 2                 50                  12500             98   \n",
       "1                 0                 13                   3250             28   \n",
       "2                 1                 16                   4000             35   \n",
       "3                 2                 20                   5000             45   \n",
       "4                 1                 24                   6000             77   \n",
       "\n",
       "   target  \n",
       "0       1  \n",
       "1       1  \n",
       "2       1  \n",
       "3       1  \n",
       "4       0  "
      ]
     },
     "execution_count": 6,
     "metadata": {},
     "output_type": "execute_result"
    }
   ],
   "source": [
    "transfusion.rename(columns={'whether he/she donated blood in March 2007': 'target'}, inplace= True)\n",
    "transfusion.head()"
   ]
  },
  {
   "cell_type": "markdown",
   "id": "da53e82f",
   "metadata": {},
   "source": [
    "We want to predict whether or not the same donor will give blood the next time the vehicle comes to campus. The model for this is a binary classifier, meaning that there are only 2 possible outcomes:\n",
    "\n",
    "0. *the donor will not give blood*\n",
    "1. *he donor will give blood*\n",
    "\n",
    "Target incidence is defined as the number of cases of each individual target value in a dataset. That is, how many 0s in the target column compared to how many 1s? Target incidence gives us an idea of how balanced (or imbalanced) is our dataset."
   ]
  },
  {
   "cell_type": "code",
   "execution_count": 7,
   "id": "1b1ca6f3",
   "metadata": {
    "scrolled": true
   },
   "outputs": [
    {
     "data": {
      "text/plain": [
       "0    0.76\n",
       "1    0.24\n",
       "Name: target, dtype: float64"
      ]
     },
     "execution_count": 7,
     "metadata": {},
     "output_type": "execute_result"
    }
   ],
   "source": [
    "transfusion.target.value_counts(normalize=True).round(2)"
   ]
  },
  {
   "cell_type": "markdown",
   "id": "6c71f209",
   "metadata": {},
   "source": [
    "target variable incidence signals that 0s occur 76% of the time. The column is quite unbalanced.\n",
    "\n",
    "We could for example downsample it or upsample it, but since we're dealing with blood donations context we'll leave it as it is while maintaining the same distribution in our train set. we'll use stratify parameter on the target column."
   ]
  },
  {
   "cell_type": "code",
   "execution_count": 8,
   "id": "497d7a60",
   "metadata": {},
   "outputs": [],
   "source": [
    "X_train, X_test, y_train, y_test = train_test_split(transfusion.drop(columns='target'), transfusion.target,\n",
    "                                                   test_size=0.3,\n",
    "                                                   random_state=42,\n",
    "                                                   stratify=transfusion.target)"
   ]
  },
  {
   "cell_type": "code",
   "execution_count": 9,
   "id": "d64bbcb2",
   "metadata": {
    "scrolled": false
   },
   "outputs": [
    {
     "data": {
      "text/plain": [
       "0    0.762906\n",
       "1    0.237094\n",
       "Name: target, dtype: float64"
      ]
     },
     "execution_count": 9,
     "metadata": {},
     "output_type": "execute_result"
    }
   ],
   "source": [
    "y_train.value_counts(normalize=True)"
   ]
  },
  {
   "cell_type": "markdown",
   "id": "98b95a59",
   "metadata": {},
   "source": [
    "We're good. We managed to keep the same stratification of the classes."
   ]
  },
  {
   "cell_type": "markdown",
   "id": "57e66cc5",
   "metadata": {},
   "source": [
    "# Model selection using TPOT"
   ]
  },
  {
   "cell_type": "markdown",
   "id": "5606dc1c",
   "metadata": {},
   "source": [
    "I decided to use TPOT for this dataset to help me zero in on one model that we can optimize further on a latter step. "
   ]
  },
  {
   "cell_type": "code",
   "execution_count": 10,
   "id": "326b2652",
   "metadata": {},
   "outputs": [
    {
     "name": "stdout",
     "output_type": "stream",
     "text": [
      "Requirement already satisfied: tpot in /Users/oumniasadaouni/.pyenv/versions/3.8.6/envs/pix2pix/lib/python3.8/site-packages (0.11.7)\n",
      "Requirement already satisfied: tqdm>=4.36.1 in /Users/oumniasadaouni/.pyenv/versions/3.8.6/envs/pix2pix/lib/python3.8/site-packages (from tpot) (4.62.2)\n",
      "Requirement already satisfied: deap>=1.2 in /Users/oumniasadaouni/.pyenv/versions/3.8.6/envs/pix2pix/lib/python3.8/site-packages (from tpot) (1.3.1)\n",
      "Requirement already satisfied: scikit-learn>=0.22.0 in /Users/oumniasadaouni/.pyenv/versions/3.8.6/envs/pix2pix/lib/python3.8/site-packages (from tpot) (1.0.2)\n",
      "Requirement already satisfied: numpy>=1.16.3 in /Users/oumniasadaouni/.pyenv/versions/3.8.6/envs/pix2pix/lib/python3.8/site-packages (from tpot) (1.19.5)\n",
      "Requirement already satisfied: update-checker>=0.16 in /Users/oumniasadaouni/.pyenv/versions/3.8.6/envs/pix2pix/lib/python3.8/site-packages (from tpot) (0.18.0)\n",
      "Requirement already satisfied: stopit>=1.1.1 in /Users/oumniasadaouni/.pyenv/versions/3.8.6/envs/pix2pix/lib/python3.8/site-packages (from tpot) (1.1.2)\n",
      "Requirement already satisfied: scipy>=1.3.1 in /Users/oumniasadaouni/.pyenv/versions/3.8.6/envs/pix2pix/lib/python3.8/site-packages (from tpot) (1.7.1)\n",
      "Requirement already satisfied: joblib>=0.13.2 in /Users/oumniasadaouni/.pyenv/versions/3.8.6/envs/pix2pix/lib/python3.8/site-packages (from tpot) (1.0.1)\n",
      "Requirement already satisfied: pandas>=0.24.2 in /Users/oumniasadaouni/.pyenv/versions/3.8.6/envs/pix2pix/lib/python3.8/site-packages (from tpot) (1.3.2)\n",
      "Requirement already satisfied: xgboost>=1.1.0 in /Users/oumniasadaouni/.pyenv/versions/3.8.6/envs/pix2pix/lib/python3.8/site-packages (from tpot) (1.5.2)\n",
      "Requirement already satisfied: python-dateutil>=2.7.3 in /Users/oumniasadaouni/.pyenv/versions/3.8.6/envs/pix2pix/lib/python3.8/site-packages (from pandas>=0.24.2->tpot) (2.8.2)\n",
      "Requirement already satisfied: pytz>=2017.3 in /Users/oumniasadaouni/.pyenv/versions/3.8.6/envs/pix2pix/lib/python3.8/site-packages (from pandas>=0.24.2->tpot) (2021.1)\n",
      "Requirement already satisfied: threadpoolctl>=2.0.0 in /Users/oumniasadaouni/.pyenv/versions/3.8.6/envs/pix2pix/lib/python3.8/site-packages (from scikit-learn>=0.22.0->tpot) (2.2.0)\n",
      "Requirement already satisfied: requests>=2.3.0 in /Users/oumniasadaouni/.pyenv/versions/3.8.6/envs/pix2pix/lib/python3.8/site-packages (from update-checker>=0.16->tpot) (2.26.0)\n",
      "Requirement already satisfied: six>=1.5 in /Users/oumniasadaouni/.pyenv/versions/3.8.6/envs/pix2pix/lib/python3.8/site-packages (from python-dateutil>=2.7.3->pandas>=0.24.2->tpot) (1.15.0)\n",
      "Requirement already satisfied: urllib3<1.27,>=1.21.1 in /Users/oumniasadaouni/.pyenv/versions/3.8.6/envs/pix2pix/lib/python3.8/site-packages (from requests>=2.3.0->update-checker>=0.16->tpot) (1.26.6)\n",
      "Requirement already satisfied: charset-normalizer~=2.0.0 in /Users/oumniasadaouni/.pyenv/versions/3.8.6/envs/pix2pix/lib/python3.8/site-packages (from requests>=2.3.0->update-checker>=0.16->tpot) (2.0.4)\n",
      "Requirement already satisfied: idna<4,>=2.5 in /Users/oumniasadaouni/.pyenv/versions/3.8.6/envs/pix2pix/lib/python3.8/site-packages (from requests>=2.3.0->update-checker>=0.16->tpot) (3.2)\n",
      "Requirement already satisfied: certifi>=2017.4.17 in /Users/oumniasadaouni/.pyenv/versions/3.8.6/envs/pix2pix/lib/python3.8/site-packages (from requests>=2.3.0->update-checker>=0.16->tpot) (2021.5.30)\n"
     ]
    }
   ],
   "source": [
    "!pip install tpot"
   ]
  },
  {
   "cell_type": "code",
   "execution_count": 11,
   "id": "f50e2ebb",
   "metadata": {
    "scrolled": false
   },
   "outputs": [
    {
     "name": "stderr",
     "output_type": "stream",
     "text": [
      "/Users/oumniasadaouni/.pyenv/versions/3.8.6/envs/pix2pix/lib/python3.8/site-packages/tpot/builtins/__init__.py:36: UserWarning: Warning: optional dependency `torch` is not available. - skipping import of NN models.\n",
      "  warnings.warn(\"Warning: optional dependency `torch` is not available. - skipping import of NN models.\")\n"
     ]
    },
    {
     "data": {
      "application/vnd.jupyter.widget-view+json": {
       "model_id": "c80e465a3cd64843b9ab436abe6d8ba7",
       "version_major": 2,
       "version_minor": 0
      },
      "text/plain": [
       "Optimization Progress:   0%|          | 0/220 [00:00<?, ?pipeline/s]"
      ]
     },
     "metadata": {},
     "output_type": "display_data"
    },
    {
     "name": "stdout",
     "output_type": "stream",
     "text": [
      "\n",
      "Generation 1 - Current best internal CV score: 0.7934981684981685\n",
      "\n",
      "Generation 2 - Current best internal CV score: 0.7934981684981685\n",
      "\n",
      "Generation 3 - Current best internal CV score: 0.7934981684981685\n",
      "\n",
      "Generation 4 - Current best internal CV score: 0.7934981684981685\n",
      "\n",
      "Generation 5 - Current best internal CV score: 0.7934981684981685\n",
      "\n",
      "Generation 6 - Current best internal CV score: 0.7934981684981685\n",
      "\n",
      "Generation 7 - Current best internal CV score: 0.7934981684981685\n",
      "\n",
      "Generation 8 - Current best internal CV score: 0.7934981684981685\n",
      "\n",
      "Generation 9 - Current best internal CV score: 0.7954212454212455\n",
      "\n",
      "Generation 10 - Current best internal CV score: 0.7973443223443223\n",
      "\n",
      "Best pipeline: RandomForestClassifier(LogisticRegression(MLPClassifier(MinMaxScaler(input_matrix), alpha=0.1, learning_rate_init=0.01), C=0.001, dual=False, penalty=l2), bootstrap=True, criterion=gini, max_features=0.2, min_samples_leaf=8, min_samples_split=19, n_estimators=100)\n",
      "\n",
      "AUC score: 0.7494\n",
      "\n",
      "Best pipeline steps:\n",
      "1. MinMaxScaler()\n",
      "2. StackingEstimator(estimator=MLPClassifier(alpha=0.1, learning_rate_init=0.01,\n",
      "                                          random_state=42))\n",
      "3. StackingEstimator(estimator=LogisticRegression(C=0.001, random_state=42))\n",
      "4. RandomForestClassifier(max_features=0.2, min_samples_leaf=8,\n",
      "                       min_samples_split=19, random_state=42)\n"
     ]
    }
   ],
   "source": [
    "from tpot import TPOTClassifier\n",
    "from sklearn.metrics import roc_curve, roc_auc_score, accuracy_score\n",
    "\n",
    "#Instantiate the TPOTClassifier\n",
    "tpot = TPOTClassifier(generations=10,\n",
    "                     population_size= 20,\n",
    "                     verbosity=2,\n",
    "                     scoring= ['roc_auc'],\n",
    "                     random_state=42,\n",
    "                     disable_update_check=True,\n",
    "                     early_stop =5\n",
    "                     )\n",
    "tpot.fit(X_train,y_train)\n",
    "\n",
    "#roc_auc score \n",
    "y_pred= tpot.predict_proba(X_test)[:,1]\n",
    "roc_auc_score = roc_auc_score(y_test , y_pred)\n",
    "print(f'\\nAUC score: {roc_auc_score:.4f}')\n",
    "\n",
    "\n",
    "# Print best pipeline steps\n",
    "print('\\nBest pipeline steps:', end='\\n')\n",
    "for idx, (name, transform) in enumerate(tpot.fitted_pipeline_.steps, start=1):\n",
    "    # Print idx and transform\n",
    "    print(f'{idx}. {transform}')"
   ]
  },
  {
   "cell_type": "markdown",
   "id": "37a2d38c",
   "metadata": {},
   "source": [
    "Let's visualize the ROC curve."
   ]
  },
  {
   "cell_type": "code",
   "execution_count": 12,
   "id": "ef1874c7",
   "metadata": {},
   "outputs": [
    {
     "data": {
      "image/png": "[encoded data removed]",
      "text/plain": [
       "<Figure size 432x288 with 1 Axes>"
      ]
     },
     "metadata": {
      "needs_background": "light"
     },
     "output_type": "display_data"
    }
   ],
   "source": [
    "fpr, tpr, thresholds = roc_curve(y_test, y_pred)\n",
    "\n",
    "#plotting the roc curve \n",
    "plt.plot(fpr,tpr, label=\"ROC curve (area = %0.2f)\" %roc_auc_score.round(2))\n",
    "plt.xlabel('False Positive Rate')\n",
    "plt.ylabel('True Positive Rate')\n",
    "plt.plot([0,1], [0,1], 'k--');\n"
   ]
  },
  {
   "cell_type": "markdown",
   "id": "24bdf86e",
   "metadata": {},
   "source": [
    "letting our tpot wander in a broad range of possible ML models, the result came out to be a multilayer stacking ensemble with an MLPClassifier and LogisticRegression as estimators and RandomForestClassifier as a final estimator. This pipeline started with a preprocessing using MinMaxScaler of the data. \n",
    "\n",
    "Our AUC score is 75%, which is not bad at all! This score signals that there is 75% chance that the model will correctly distinguish a doner's willingness to actually give blood. \n",
    "\n",
    "Our last step would be to rerun a tpot but this time around using a restricted configuration of \"simple\" models and see if we ever manage to increase our tpr of the roc curve. "
   ]
  },
  {
   "cell_type": "code",
   "execution_count": 18,
   "id": "6f17e860",
   "metadata": {},
   "outputs": [],
   "source": [
    "#Exporting our magical tpot\n",
    "tpot.export('tpot_MAGIC_blood_donations_pipeline.py')"
   ]
  },
  {
   "cell_type": "code",
   "execution_count": 13,
   "id": "a58111bb",
   "metadata": {
    "scrolled": false
   },
   "outputs": [
    {
     "data": {
      "application/vnd.jupyter.widget-view+json": {
       "model_id": "2a6901827c354e3281579b422fdf9025",
       "version_major": 2,
       "version_minor": 0
      },
      "text/plain": [
       "Optimization Progress:   0%|          | 0/120 [00:00<?, ?pipeline/s]"
      ]
     },
     "metadata": {},
     "output_type": "display_data"
    },
    {
     "name": "stdout",
     "output_type": "stream",
     "text": [
      "\n",
      "Generation 1 - Current best internal CV score: 0.7781501831501831\n",
      "\n",
      "Generation 2 - Current best internal CV score: 0.7781501831501831\n",
      "\n",
      "Generation 3 - Current best internal CV score: 0.7782051282051282\n",
      "\n",
      "Generation 4 - Current best internal CV score: 0.7839377289377288\n",
      "\n",
      "Generation 5 - Current best internal CV score: 0.7839377289377288\n",
      "\n",
      "Best pipeline: MultinomialNB(MinMaxScaler(input_matrix), alpha=100.0, fit_prior=False)\n"
     ]
    },
    {
     "data": {
      "text/html": [
       "<style>#sk-f9cdd6f5-9799-423b-8960-45f778e7da4b {color: black;background-color: white;}#sk-f9cdd6f5-9799-423b-8960-45f778e7da4b pre{padding: 0;}#sk-f9cdd6f5-9799-423b-8960-45f778e7da4b div.sk-toggleable {background-color: white;}#sk-f9cdd6f5-9799-423b-8960-45f778e7da4b label.sk-toggleable__label {cursor: pointer;display: block;width: 100%;margin-bottom: 0;padding: 0.3em;box-sizing: border-box;text-align: center;}#sk-f9cdd6f5-9799-423b-8960-45f778e7da4b label.sk-toggleable__label-arrow:before {content: \"▸\";float: left;margin-right: 0.25em;color: #696969;}#sk-f9cdd6f5-9799-423b-8960-45f778e7da4b label.sk-toggleable__label-arrow:hover:before {color: black;}#sk-f9cdd6f5-9799-423b-8960-45f778e7da4b div.sk-estimator:hover label.sk-toggleable__label-arrow:before {color: black;}#sk-f9cdd6f5-9799-423b-8960-45f778e7da4b div.sk-toggleable__content {max-height: 0;max-width: 0;overflow: hidden;text-align: left;background-color: #f0f8ff;}#sk-f9cdd6f5-9799-423b-8960-45f778e7da4b div.sk-toggleable__content pre {margin: 0.2em;color: black;border-radius: 0.25em;background-color: #f0f8ff;}#sk-f9cdd6f5-9799-423b-8960-45f778e7da4b input.sk-toggleable__control:checked~div.sk-toggleable__content {max-height: 200px;max-width: 100%;overflow: auto;}#sk-f9cdd6f5-9799-423b-8960-45f778e7da4b input.sk-toggleable__control:checked~label.sk-toggleable__label-arrow:before {content: \"▾\";}#sk-f9cdd6f5-9799-423b-8960-45f778e7da4b div.sk-estimator input.sk-toggleable__control:checked~label.sk-toggleable__label {background-color: #d4ebff;}#sk-f9cdd6f5-9799-423b-8960-45f778e7da4b div.sk-label input.sk-toggleable__control:checked~label.sk-toggleable__label {background-color: #d4ebff;}#sk-f9cdd6f5-9799-423b-8960-45f778e7da4b input.sk-hidden--visually {border: 0;clip: rect(1px 1px 1px 1px);clip: rect(1px, 1px, 1px, 1px);height: 1px;margin: -1px;overflow: hidden;padding: 0;position: absolute;width: 1px;}#sk-f9cdd6f5-9799-423b-8960-45f778e7da4b div.sk-estimator {font-family: monospace;background-color: #f0f8ff;border: 1px dotted black;border-radius: 0.25em;box-sizing: border-box;margin-bottom: 0.5em;}#sk-f9cdd6f5-9799-423b-8960-45f778e7da4b div.sk-estimator:hover {background-color: #d4ebff;}#sk-f9cdd6f5-9799-423b-8960-45f778e7da4b div.sk-parallel-item::after {content: \"\";width: 100%;border-bottom: 1px solid gray;flex-grow: 1;}#sk-f9cdd6f5-9799-423b-8960-45f778e7da4b div.sk-label:hover label.sk-toggleable__label {background-color: #d4ebff;}#sk-f9cdd6f5-9799-423b-8960-45f778e7da4b div.sk-serial::before {content: \"\";position: absolute;border-left: 1px solid gray;box-sizing: border-box;top: 2em;bottom: 0;left: 50%;}#sk-f9cdd6f5-9799-423b-8960-45f778e7da4b div.sk-serial {display: flex;flex-direction: column;align-items: center;background-color: white;padding-right: 0.2em;padding-left: 0.2em;}#sk-f9cdd6f5-9799-423b-8960-45f778e7da4b div.sk-item {z-index: 1;}#sk-f9cdd6f5-9799-423b-8960-45f778e7da4b div.sk-parallel {display: flex;align-items: stretch;justify-content: center;background-color: white;}#sk-f9cdd6f5-9799-423b-8960-45f778e7da4b div.sk-parallel::before {content: \"\";position: absolute;border-left: 1px solid gray;box-sizing: border-box;top: 2em;bottom: 0;left: 50%;}#sk-f9cdd6f5-9799-423b-8960-45f778e7da4b div.sk-parallel-item {display: flex;flex-direction: column;position: relative;background-color: white;}#sk-f9cdd6f5-9799-423b-8960-45f778e7da4b div.sk-parallel-item:first-child::after {align-self: flex-end;width: 50%;}#sk-f9cdd6f5-9799-423b-8960-45f778e7da4b div.sk-parallel-item:last-child::after {align-self: flex-start;width: 50%;}#sk-f9cdd6f5-9799-423b-8960-45f778e7da4b div.sk-parallel-item:only-child::after {width: 0;}#sk-f9cdd6f5-9799-423b-8960-45f778e7da4b div.sk-dashed-wrapped {border: 1px dashed gray;margin: 0 0.4em 0.5em 0.4em;box-sizing: border-box;padding-bottom: 0.4em;background-color: white;position: relative;}#sk-f9cdd6f5-9799-423b-8960-45f778e7da4b div.sk-label label {font-family: monospace;font-weight: bold;background-color: white;display: inline-block;line-height: 1.2em;}#sk-f9cdd6f5-9799-423b-8960-45f778e7da4b div.sk-label-container {position: relative;z-index: 2;text-align: center;}#sk-f9cdd6f5-9799-423b-8960-45f778e7da4b div.sk-container {/* jupyter's `normalize.less` sets `[hidden] { display: none; }` but bootstrap.min.css set `[hidden] { display: none !important; }` so we also need the `!important` here to be able to override the default hidden behavior on the sphinx rendered scikit-learn.org. See: https://github.com/scikit-learn/scikit-learn/issues/21755 */display: inline-block !important;position: relative;}#sk-f9cdd6f5-9799-423b-8960-45f778e7da4b div.sk-text-repr-fallback {display: none;}</style><div id=\"sk-f9cdd6f5-9799-423b-8960-45f778e7da4b\" class=\"sk-top-container\"><div class=\"sk-text-repr-fallback\"><pre>TPOTClassifier(config_dict=&#x27;TPOT light&#x27;, disable_update_check=True,\n",
       "               early_stop=5, generations=5, population_size=20, random_state=42,\n",
       "               scoring=[&#x27;roc_auc&#x27;], verbosity=2)</pre><b>Please rerun this cell to show the HTML repr or trust the notebook.</b></div><div class=\"sk-container\" hidden><div class=\"sk-item\"><div class=\"sk-estimator sk-toggleable\"><input class=\"sk-toggleable__control sk-hidden--visually\" id=\"f4b1f737-4e18-437b-a13a-4a95acd58456\" type=\"checkbox\" checked><label for=\"f4b1f737-4e18-437b-a13a-4a95acd58456\" class=\"sk-toggleable__label sk-toggleable__label-arrow\">TPOTClassifier</label><div class=\"sk-toggleable__content\"><pre>TPOTClassifier(config_dict=&#x27;TPOT light&#x27;, disable_update_check=True,\n",
       "               early_stop=5, generations=5, population_size=20, random_state=42,\n",
       "               scoring=[&#x27;roc_auc&#x27;], verbosity=2)</pre></div></div></div></div></div>"
      ],
      "text/plain": [
       "TPOTClassifier(config_dict='TPOT light', disable_update_check=True,\n",
       "               early_stop=5, generations=5, population_size=20, random_state=42,\n",
       "               scoring=['roc_auc'], verbosity=2)"
      ]
     },
     "execution_count": 13,
     "metadata": {},
     "output_type": "execute_result"
    }
   ],
   "source": [
    "#Instantiate the TPOTClassifier\n",
    "tpot_light = TPOTClassifier(generations=5,\n",
    "                     population_size= 20,\n",
    "                     verbosity=2,\n",
    "                     scoring= ['roc_auc'],\n",
    "                     random_state=42,\n",
    "                     disable_update_check=True,\n",
    "                     early_stop =5,\n",
    "                    config_dict= 'TPOT light')\n",
    "\n",
    "tpot_light.fit(X_train,y_train)\n",
    "\n"
   ]
  },
  {
   "cell_type": "markdown",
   "id": "8658e276",
   "metadata": {},
   "source": [
    "Using a TPOT light version signaled a slightly decreasing model accuracy, from 79.7% to 78.4%. \n",
    "\n",
    "The result invites us to customize a pipepline to solve this classification problem. "
   ]
  },
  {
   "cell_type": "markdown",
   "id": "d5176e11",
   "metadata": {},
   "source": [
    "# Customized pipeline"
   ]
  },
  {
   "cell_type": "markdown",
   "id": "a92e1797",
   "metadata": {},
   "source": []
  }
 ],
 "metadata": {
  "kernelspec": {
   "display_name": "Python 3 (ipykernel)",
   "language": "python",
   "name": "python3"
  },
  "language_info": {
   "codemirror_mode": {
    "name": "ipython",
    "version": 3
   },
   "file_extension": ".py",
   "mimetype": "text/x-python",
   "name": "python",
   "nbconvert_exporter": "python",
   "pygments_lexer": "ipython3",
   "version": "3.8.6"
  },
  "toc": {
   "base_numbering": 1,
   "nav_menu": {},
   "number_sections": true,
   "sideBar": true,
   "skip_h1_title": false,
   "title_cell": "Table of Contents",
   "title_sidebar": "Contents",
   "toc_cell": false,
   "toc_position": {},
   "toc_section_display": true,
   "toc_window_display": false
  }
 },
 "nbformat": 4,
 "nbformat_minor": 5
}
